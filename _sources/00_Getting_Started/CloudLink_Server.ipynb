{
 "cells": [
  {
   "cell_type": "markdown",
   "id": "2a5689ad",
   "metadata": {},
   "source": [
    "* Cloudlink: https://github.com/MikeDev101/cloudlink\n",
    "\n",
    "```\n",
    "pip install cloudlink\n",
    "```\n",
    "\n",
    "Le serveur est à : https://github.com/MikeDev101/cloudlink/blob/master/server_example.py\n",
    "\n",
    "Testé avec la version 0.1.7.4 de cloudlink\n",
    "\n"
   ]
  }
 ],
 "metadata": {
  "kernelspec": {
   "display_name": "Python 3 (ipykernel)",
   "language": "python",
   "name": "python3"
  },
  "language_info": {
   "codemirror_mode": {
    "name": "ipython",
    "version": 3
   },
   "file_extension": ".py",
   "mimetype": "text/x-python",
   "name": "python",
   "nbconvert_exporter": "python",
   "pygments_lexer": "ipython3",
   "version": "3.9.7"
  }
 },
 "nbformat": 4,
 "nbformat_minor": 5
}
