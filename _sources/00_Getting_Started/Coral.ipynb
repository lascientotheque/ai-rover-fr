{
 "cells": [
  {
   "cell_type": "markdown",
   "id": "18b1d319",
   "metadata": {},
   "source": [
    "## Coral\n",
    "\n",
    "* Coral API: https://coral.ai/docs/reference/py/\n",
    "\n",
    "* https://projects.raspberrypi.org/en/projects/image-id-coral/0\n",
    "\n",
    "* Installation Coral lib - Déjà faites apparemmment (apt-get install libedgetpu1-std python3-pycoral -y)\n",
    "\n",
    "```\n",
    "wget -O - https://raw.githubusercontent.com/raspberrypilearning/image-id-coral/master/en/resources/install_script.sh | bash\n",
    "\n",
    "```\n",
    "\n",
    "Download ISS images from https://drive.google.com/drive/folders/1owb4zoZzSMld5qX0edCwZ1qZ6ypnJQ_5 (1.5GB)\n",
    "\n",
    "```\n",
    "scp iss_day_night_images-20211105T092456Z-001.zip pi@192.168.2.4:/home/pi\n",
    "unzip iss_day_night_images-20211105T092456Z-001.zip\n",
    "rm iss_day_night_images-20211105T092456Z-001.zip\n",
    "```\n",
    "\n",
    "Clone Git Repo (1.5GB) - Reduce to 18MB by deleting .git\n",
    "\n",
    "```\n",
    "git clone https://github.com/raspberrypilearning/image-id-coral\n",
    "\n",
    "cd image-id-coral\n",
    "rm -rf .git\n",
    "\n",
    "cd en/ressources\n",
    "mkdir data\n",
    "mv day-vs-night.txt data\n",
    "mv ~/iss_day_night_images/* data/\n",
    "\n",
    "mkdir models\n",
    "mv mobilenet_v1_1.0_224_l2norm_quant_edgetpu.tflite models\n",
    "\n",
    "```\n",
    "\n",
    "Instructions from Teachable Machine - Coral\n",
    "\n",
    "```\n",
    "pip3 install Pillow opencv-python opencv-contrib-python\n",
    "\n",
    "```"
   ]
  }
 ],
 "metadata": {
  "kernelspec": {
   "display_name": "Python 3 (ipykernel)",
   "language": "python",
   "name": "python3"
  },
  "language_info": {
   "codemirror_mode": {
    "name": "ipython",
    "version": 3
   },
   "file_extension": ".py",
   "mimetype": "text/x-python",
   "name": "python",
   "nbconvert_exporter": "python",
   "pygments_lexer": "ipython3",
   "version": "3.9.7"
  }
 },
 "nbformat": 4,
 "nbformat_minor": 5
}
