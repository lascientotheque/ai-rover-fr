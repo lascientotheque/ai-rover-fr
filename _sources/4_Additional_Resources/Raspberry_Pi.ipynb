{
 "cells": [
  {
   "cell_type": "markdown",
   "metadata": {},
   "source": [
    "(Raspberry_Pi)=\n",
    "# Raspberry Pi\n",
    "\n",
    "\n",
    "* https://github.com/CamJam-EduKit/EduKit3/blob/master/CamJam%20Edukit%203%20-%20GPIO%20Zero/CamJam%20EduKit%203%20-%20Robotics%20Worksheet%201%20(GPIO%20Zero)%20-%20Introduction.pdf\n",
    "\n",
    "\n",
    "Equipement aussi dans https://raw.githubusercontent.com/CamJam-EduKit/EduKit3/master/CamJam%20Edukit%203%20-%20GPIO%20Zero/CamJam%20EduKit%203%20-%20Robotics%20Worksheet%202%20(GPIO%20Zero)%20-%20Building%20a%20Robot.pdf\n",
    "\n",
    "\n",
    "Pour le Raspberry Pi\n",
    "\n",
    "* https://projects.raspberrypi.org/fr-FR/projects/raspberry-pi-getting-started \n",
    "\n",
    "Pour connecter la caméra (de \"Introduction\" jusque \"Comment contrôler le module caméra via la ligne de commande\"):\n",
    "\n",
    "* https://projects.raspberrypi.org/fr-FR/projects/getting-started-with-picamera\n",
    "\n"
   ]
  },
  {
   "cell_type": "markdown",
   "metadata": {},
   "source": [
    "## Connection à distance\n",
    "\n",
    "### Trouver l'adresse IP"
   ]
  },
  {
   "cell_type": "markdown",
   "metadata": {},
   "source": [
    "\n",
    "## Connection avec VNC\n",
    "\n",
    "Utiliser VNC\n",
    "\n",
    "\n",
    "* Voir https://www.ionos.fr/digitalguide/serveur/configuration/mise-en-place-dun-vnc-sur-raspberry-pi/\n",
    "* Client pour Mac: https://www.tweaking4all.com/os-tips-and-tricks/macosx-tips-and-tricks/best-vnc-client-macos-x/\n"
   ]
  },
  {
   "cell_type": "markdown",
   "metadata": {},
   "source": [
    "## Connection avec SSH\n",
    "\n",
    "Voir: https://www.raspberrypi.org/documentation/computers/remote-access.html\n",
    "\n",
    "* login: pi\n",
    "* password: raspberry\n",
    "* 192.168.2.4 - 192.168.1.5\n",
    "\n",
    "```\n",
    "Utiliser -Y pour exporter le serveur graphique\n",
    "ssh -Y pi@192.168.2.4\n",
    "ssh pi@192.168.2.4\n",
    "ssh -L 8889:localhost:8888 pi@192.168.2.4\n",
    "\n",
    "ssh -L 8889:localhost:8888 pi@169.254.186.223\n",
    "\n",
    "```\n",
    "\n",
    "## Setup wifi\n",
    "\n",
    "\n",
    "\n",
    "\n",
    "```\n",
    "sudo raspi-config\n",
    "\n",
    "sudo nano /etc/wpa_supplicant/wpa_supplicant.conf\n",
    "\n",
    "ctrl_interface=DIR=/var/run/wpa_supplicant GROUP=netdev\n",
    "update_config=1\n",
    "country=GB\n",
    "\n",
    "network={\n",
    " ssid=\"sciento_2.4Ghz\"\n",
    " scan_ssid=1\n",
    " psk=\"password\"\n",
    " key_mgmt=WPA-PSK\n",
    "}\n",
    "\n",
    "\n",
    "network={\n",
    " ssid=\"Le Terrier_5\"\n",
    " scan_ssid=1\n",
    " psk=\"password\"\n",
    " key_mgmt=WPA-PSK\n",
    "}\n",
    "\n",
    "network={\n",
    " ssid=\"AMERICA\"\n",
    " scan_ssid=1\n",
    " psk=\"password\"\n",
    " key_mgmt=WPA-PSK\n",
    "}\n",
    "\n",
    "```\n",
    "\n",
    "\n"
   ]
  },
  {
   "cell_type": "markdown",
   "metadata": {},
   "source": [
    "## Specifications\n",
    "\n",
    "* 15GB disk\n",
    "* 3.7GB RAM\n",
    "* 4 cores, ARMv7 Processor rev 3 (v7l) - 32 bits\n"
   ]
  },
  {
   "cell_type": "markdown",
   "metadata": {},
   "source": [
    "## Logiciels additionnels\n",
    "\n",
    "\n",
    "\n",
    "### Jupyter notebook\n",
    "\n",
    "Maybe not!\n",
    "\n",
    "https://www.instructables.com/Jupyter-Notebook-on-Raspberry-Pi/\n",
    "\n",
    "```\n",
    "sudo su -\n",
    "apt-get update\n",
    "apt-get install python3-matplotlib\n",
    "apt-get install python3-scipy\n",
    "pip3 install --upgrade pip\n",
    "reboot\n",
    "sudo pip3 install jupyter\n",
    "\n",
    "sudo apt-get clean\n",
    "pip3 install --upgrade --force jupyter-console\n",
    "```\n",
    "\n",
    "\n",
    "### Scratch\n",
    "\n",
    "https://pimylifeup.com/raspberry-pi-scratch/\n",
    "\n",
    "```\n",
    "sudo apt install scratch3\n",
    "```\n",
    "\n",
    "Extnsions:\n",
    "* https://sheeptester.github.io/scratch-gui/\n",
    "* https://www.instructables.com/Making-Scratch-30-Extensions/\n",
    "* https://kittenbot.github.io/scratch3-extension/#\n",
    "\n",
    "\n",
    "\n",
    "### OpenCV\n",
    "\n",
    "```\n",
    "sudo pip install opencv-contrib-python\n",
    "```\n",
    "\n",
    "-> opencv-contrib-python-4.5.4.60\n",
    "\n",
    "Prend environ 2 ou 3 heures pour s'installer. \n",
    "\n",
    "\n",
    "\n"
   ]
  },
  {
   "cell_type": "markdown",
   "metadata": {},
   "source": [
    "## Tester l'installation\n",
    "\n",
    "\n",
    "### PiCamera\n",
    "\n",
    "```\n",
    "raspistill -o output.jpg\n",
    "```\n",
    "\n",
    "\n"
   ]
  },
  {
   "cell_type": "markdown",
   "metadata": {},
   "source": [
    "\n",
    "\n"
   ]
  }
 ],
 "metadata": {
  "kernelspec": {
   "display_name": "Python 3 (ipykernel)",
   "language": "python",
   "name": "python3"
  },
  "language_info": {
   "codemirror_mode": {
    "name": "ipython",
    "version": 3
   },
   "file_extension": ".py",
   "mimetype": "text/x-python",
   "name": "python",
   "nbconvert_exporter": "python",
   "pygments_lexer": "ipython3",
   "version": "3.9.7"
  }
 },
 "nbformat": 4,
 "nbformat_minor": 4
}
